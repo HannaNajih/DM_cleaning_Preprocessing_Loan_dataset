{
 "cells": [
  {
   "cell_type": "markdown",
   "id": "7ce58eb2",
   "metadata": {},
   "source": [
    "# **University of Kurdistan**\n",
    "### Assignment 2: Data Cleaning & Analysis\n",
    "### Course: Data Mining  \n",
    "### Tasks: Duplicates, Missing Values, Outliers, etc."
   ]
  },
  {
   "cell_type": "markdown",
   "id": "cde295ef",
   "metadata": {},
   "source": [
    "### A. Identify and Remove Duplicate or Redundant Columns\n",
    "### In this step, we detect columns that are exact duplicates or represent the same data, then remove them to avoid redundancy.\n"
   ]
  },
  {
   "cell_type": "code",
   "execution_count": 2,
   "id": "5ed21c7e",
   "metadata": {},
   "outputs": [
    {
     "name": "stdout",
     "output_type": "stream",
     "text": [
      "Initial dataset shape: (4269, 13)\n",
      "Duplicate columns detected: []\n",
      "Dataset shape after removing duplicate columns: (4269, 13)\n"
     ]
    }
   ],
   "source": [
    "import pandas as pd\n",
    "\n",
    "# Load dataset\n",
    "df = pd.read_csv('../data/loan_dataset.csv')\n",
    "df.columns = df.columns.str.strip()  # Clean column names\n",
    "\n",
    "print(\"Initial dataset shape:\", df.shape)\n",
    "\n",
    "# Detect exact duplicate columns\n",
    "duplicate_cols = df.columns[df.T.duplicated()]\n",
    "print(\"Duplicate columns detected:\", list(duplicate_cols))\n",
    "\n",
    "# Remove exact duplicate columns\n",
    "df = df.loc[:, ~df.T.duplicated()]\n",
    "\n",
    "print(\"Dataset shape after removing duplicate columns:\", df.shape)\n"
   ]
  },
  {
   "cell_type": "markdown",
   "id": "66526bbf",
   "metadata": {},
   "source": [
    "### B. Identify and Remove Duplicate Rows\n",
    "### Remove rows that are complete duplicates to avoid skewing analysis.\n"
   ]
  },
  {
   "cell_type": "code",
   "execution_count": 3,
   "id": "ae503931",
   "metadata": {},
   "outputs": [
    {
     "name": "stdout",
     "output_type": "stream",
     "text": [
      "Number of duplicate rows: 0\n",
      "Dataset shape after removing duplicate rows: (4269, 13)\n"
     ]
    }
   ],
   "source": [
    "duplicate_rows = df.duplicated()\n",
    "print(\"Number of duplicate rows:\", duplicate_rows.sum())\n",
    "\n",
    "df = df.drop_duplicates()\n",
    "\n",
    "print(\"Dataset shape after removing duplicate rows:\", df.shape)\n"
   ]
  },
  {
   "cell_type": "markdown",
   "id": "f05b163b",
   "metadata": {},
   "source": [
    "### C. Handle Missing Values by Deleting Rows or Columns\n",
    "### Here, we drop columns with too many missing values and rows with any missing values to see how much data is lost.\n"
   ]
  },
  {
   "cell_type": "code",
   "execution_count": 4,
   "id": "84aa1c56",
   "metadata": {},
   "outputs": [
    {
     "name": "stdout",
     "output_type": "stream",
     "text": [
      "Missing values per column before handling:\n",
      "loan_id                     854\n",
      "no_of_dependents            820\n",
      "education                   868\n",
      "self_employed               849\n",
      "income_annum                896\n",
      "loan_amount                 880\n",
      "loan_term                   900\n",
      "cibil_score                 836\n",
      "residential_assets_value    813\n",
      "commercial_assets_value     821\n",
      "luxury_assets_value         830\n",
      "bank_asset_value            846\n",
      "loan_status                 807\n",
      "dtype: int64\n",
      "Dropped columns with >50% missing values: []\n",
      "Shape after dropping rows with missing data: (252, 13)\n"
     ]
    }
   ],
   "source": [
    "print(\"Missing values per column before handling:\")\n",
    "print(df.isnull().sum())\n",
    "\n",
    "# Drop columns with more than 50% missing data\n",
    "threshold = len(df) * 0.5\n",
    "cols_to_drop = df.columns[df.isnull().sum() > threshold]\n",
    "df = df.drop(columns=cols_to_drop)\n",
    "print(\"Dropped columns with >50% missing values:\", list(cols_to_drop))\n",
    "\n",
    "# Drop rows with any missing values\n",
    "df_dropna = df.dropna()\n",
    "print(\"Shape after dropping rows with missing data:\", df_dropna.shape)\n"
   ]
  },
  {
   "cell_type": "markdown",
   "id": "f89e47dd",
   "metadata": {},
   "source": [
    "### D. Handle Missing Values by Replacing with Mean or Median\n",
    "### Fill missing numeric values with median and categorical with mode to preserve data size.\n"
   ]
  },
  {
   "cell_type": "code",
   "execution_count": 5,
   "id": "fa014f37",
   "metadata": {},
   "outputs": [
    {
     "name": "stdout",
     "output_type": "stream",
     "text": [
      "Missing values after filling with median/mode:\n",
      "loan_id                     0\n",
      "no_of_dependents            0\n",
      "education                   0\n",
      "self_employed               0\n",
      "income_annum                0\n",
      "loan_amount                 0\n",
      "loan_term                   0\n",
      "cibil_score                 0\n",
      "residential_assets_value    0\n",
      "commercial_assets_value     0\n",
      "luxury_assets_value         0\n",
      "bank_asset_value            0\n",
      "loan_status                 0\n",
      "dtype: int64\n"
     ]
    }
   ],
   "source": [
    "import numpy as np\n",
    "\n",
    "df_fill = df.copy()\n",
    "\n",
    "numeric_cols = df_fill.select_dtypes(include=[np.number]).columns\n",
    "for col in numeric_cols:\n",
    "    median_val = df_fill[col].median()\n",
    "    df_fill[col] = df_fill[col].fillna(median_val)\n",
    "\n",
    "categorical_cols = df_fill.select_dtypes(include=['object']).columns\n",
    "for col in categorical_cols:\n",
    "    mode_val = df_fill[col].mode()[0]\n",
    "    df_fill[col] = df_fill[col].fillna(mode_val)\n",
    "\n",
    "print(\"Missing values after filling with median/mode:\")\n",
    "print(df_fill.isnull().sum())\n"
   ]
  },
  {
   "cell_type": "markdown",
   "id": "3731ec59",
   "metadata": {},
   "source": [
    "### E. Handle Missing Values by Forward Fill\n",
    "### Replace missing values with the previous row's value, useful for ordered or time-series data.\n"
   ]
  },
  {
   "cell_type": "code",
   "execution_count": 6,
   "id": "13012e18",
   "metadata": {},
   "outputs": [
    {
     "name": "stdout",
     "output_type": "stream",
     "text": [
      "Missing values after forward fill:\n",
      "loan_id                     0\n",
      "no_of_dependents            0\n",
      "education                   0\n",
      "self_employed               0\n",
      "income_annum                0\n",
      "loan_amount                 0\n",
      "loan_term                   0\n",
      "cibil_score                 0\n",
      "residential_assets_value    0\n",
      "commercial_assets_value     0\n",
      "luxury_assets_value         0\n",
      "bank_asset_value            0\n",
      "loan_status                 3\n",
      "dtype: int64\n"
     ]
    },
    {
     "name": "stderr",
     "output_type": "stream",
     "text": [
      "C:\\Users\\hnaji\\AppData\\Local\\Temp\\ipykernel_53956\\1680181887.py:1: FutureWarning: DataFrame.fillna with 'method' is deprecated and will raise in a future version. Use obj.ffill() or obj.bfill() instead.\n",
      "  df_ffill = df.copy().fillna(method='ffill')\n"
     ]
    }
   ],
   "source": [
    "df_ffill = df.copy().fillna(method='ffill')\n",
    "\n",
    "print(\"Missing values after forward fill:\")\n",
    "print(df_ffill.isnull().sum())\n"
   ]
  },
  {
   "cell_type": "markdown",
   "id": "cefbfe00",
   "metadata": {},
   "source": [
    "### F. Which Method is Better?\n",
    "### Explanation of the pros and cons of missing data handling methods.\n"
   ]
  },
  {
   "cell_type": "code",
   "execution_count": 7,
   "id": "2326f78a",
   "metadata": {},
   "outputs": [
    {
     "name": "stdout",
     "output_type": "stream",
     "text": [
      "\n",
      "Method comparison:\n",
      "- Dropping rows/columns reduces dataset size and might discard useful data.\n",
      "- Filling with median/mode keeps dataset size and handles numeric/categorical data well.\n",
      "- Forward fill is good for ordered data but can propagate incorrect values otherwise.\n",
      "\n",
      "Recommendation:\n",
      "For general tabular data, filling missing values with median/mode (as in D) is usually best.\n",
      "\n"
     ]
    }
   ],
   "source": [
    "print(\"\"\"\n",
    "Method comparison:\n",
    "- Dropping rows/columns reduces dataset size and might discard useful data.\n",
    "- Filling with median/mode keeps dataset size and handles numeric/categorical data well.\n",
    "- Forward fill is good for ordered data but can propagate incorrect values otherwise.\n",
    "\n",
    "Recommendation:\n",
    "For general tabular data, filling missing values with median/mode (as in D) is usually best.\n",
    "\"\"\")\n"
   ]
  },
  {
   "cell_type": "markdown",
   "id": "dab4c059",
   "metadata": {},
   "source": [
    "### G. Identify and Handle Noisy/Outlier Data\n",
    "### Detect outliers using the IQR method and cap them to reduce their effect.\n"
   ]
  },
  {
   "cell_type": "code",
   "execution_count": 8,
   "id": "28dec612",
   "metadata": {},
   "outputs": [
    {
     "name": "stdout",
     "output_type": "stream",
     "text": [
      "loan_id - Outliers detected: 0\n",
      "no_of_dependents - Outliers detected: 0\n",
      "income_annum - Outliers detected: 0\n",
      "loan_amount - Outliers detected: 39\n",
      "loan_term - Outliers detected: 0\n",
      "cibil_score - Outliers detected: 0\n",
      "residential_assets_value - Outliers detected: 209\n",
      "commercial_assets_value - Outliers detected: 196\n",
      "luxury_assets_value - Outliers detected: 25\n",
      "bank_asset_value - Outliers detected: 140\n"
     ]
    }
   ],
   "source": [
    "for col in numeric_cols:\n",
    "    Q1 = df_fill[col].quantile(0.25)\n",
    "    Q3 = df_fill[col].quantile(0.75)\n",
    "    IQR = Q3 - Q1\n",
    "    lower_bound = Q1 - 1.5 * IQR\n",
    "    upper_bound = Q3 + 1.5 * IQR\n",
    "    \n",
    "    outliers = df_fill[(df_fill[col] < lower_bound) | (df_fill[col] > upper_bound)]\n",
    "    print(f\"{col} - Outliers detected: {len(outliers)}\")\n",
    "    \n",
    "    # Cap outliers\n",
    "    df_fill[col] = df_fill[col].clip(lower=lower_bound, upper=upper_bound)\n"
   ]
  },
  {
   "cell_type": "markdown",
   "id": "b2d67d50",
   "metadata": {},
   "source": [
    "# H. Draw Box Plot and Explain Analysis\n",
    "## Visualize numeric columns to see distributions and effect of outlier capping.\n"
   ]
  },
  {
   "cell_type": "code",
   "execution_count": 12,
   "id": "ce83bb3b",
   "metadata": {},
   "outputs": [
    {
     "name": "stderr",
     "output_type": "stream",
     "text": [
      "C:\\Users\\hnaji\\AppData\\Local\\Temp\\ipykernel_53956\\1683549227.py:5: UserWarning: \n",
      "The palette list has fewer values (7) than needed (10) and will cycle, which may produce an uninterpretable plot.\n",
      "  sns.boxplot(data=df_fill[numeric_cols], palette=[\"#D8BFD8\", \"#DDA0DD\", \"#DA70D6\", \"#EE82EE\", \"#FFC0CB\", \"#FF69B4\", \"#C71585\"])\n"
     ]
    },
    {
     "data": {
      "image/png": "[encoded data removed]",
      "text/plain": [
       "<Figure size 1200x600 with 1 Axes>"
      ]
     },
     "metadata": {},
     "output_type": "display_data"
    }
   ],
   "source": [
    "import seaborn as sns\n",
    "import matplotlib.pyplot as plt\n",
    "\n",
    "plt.figure(figsize=(12,6))\n",
    "sns.boxplot(data=df_fill[numeric_cols], palette=[\"#D8BFD8\", \"#DDA0DD\", \"#DA70D6\", \"#EE82EE\", \"#FFC0CB\", \"#FF69B4\", \"#C71585\"])\n",
    "plt.title(\"Boxplot of Numeric Features (Outliers capped)\", fontsize=16, color='#800080')\n",
    "plt.show()\n",
    "\n"
   ]
  },
  {
   "cell_type": "markdown",
   "id": "93c24748",
   "metadata": {},
   "source": [
    "### I. Convert Text Data to Numerical\n",
    "### Encode categorical text columns into numbers for machine learning.\n"
   ]
  },
  {
   "cell_type": "code",
   "execution_count": 10,
   "id": "5ae07aeb",
   "metadata": {},
   "outputs": [
    {
     "name": "stdout",
     "output_type": "stream",
     "text": [
      "Text columns for encoding: ['education', 'self_employed', 'loan_status']\n",
      "Dataset sample after encoding:\n",
      "   loan_id  no_of_dependents  education  self_employed  income_annum  \\\n",
      "0      1.0               2.0          0              0     9600000.0   \n",
      "1      2.0               0.0          1              1     4100000.0   \n",
      "2      3.0               3.0          0              1     9100000.0   \n",
      "3      4.0               3.0          0              0     8200000.0   \n",
      "4      5.0               5.0          1              1     9800000.0   \n",
      "\n",
      "   loan_amount  loan_term  cibil_score  residential_assets_value  \\\n",
      "0   29900000.0       12.0        778.0                 2400000.0   \n",
      "1   14500000.0        8.0        417.0                 2700000.0   \n",
      "2   29700000.0       20.0        506.0                 7100000.0   \n",
      "3   14500000.0        8.0        467.0                 5600000.0   \n",
      "4   24200000.0       20.0        600.0                12400000.0   \n",
      "\n",
      "   commercial_assets_value  luxury_assets_value  bank_asset_value  loan_status  \n",
      "0               13400000.0           22700000.0         8000000.0            0  \n",
      "1                2200000.0            8800000.0         3300000.0            0  \n",
      "2                3800000.0           33300000.0        11400000.0            0  \n",
      "3                3300000.0           23300000.0         4600000.0            1  \n",
      "4                8200000.0           29400000.0         4600000.0            1  \n"
     ]
    }
   ],
   "source": [
    "from sklearn.preprocessing import LabelEncoder\n",
    "\n",
    "text_cols = df_fill.select_dtypes(include=['object']).columns\n",
    "print(\"Text columns for encoding:\", list(text_cols))\n",
    "\n",
    "le = LabelEncoder()\n",
    "for col in text_cols:\n",
    "    df_fill[col] = le.fit_transform(df_fill[col])\n",
    "\n",
    "print(\"Dataset sample after encoding:\")\n",
    "print(df_fill.head())\n"
   ]
  },
  {
   "cell_type": "markdown",
   "id": "0cc444f8",
   "metadata": {},
   "source": [
    "_____________________________________________________________________________________________\n",
    "## **Final Check**\n",
    "### Verify the dataset for any remaining issues.\n"
   ]
  },
  {
   "cell_type": "code",
   "execution_count": 11,
   "id": "dac6fe7a",
   "metadata": {},
   "outputs": [
    {
     "name": "stdout",
     "output_type": "stream",
     "text": [
      "Missing values check:\n",
      "loan_id                     0\n",
      "no_of_dependents            0\n",
      "education                   0\n",
      "self_employed               0\n",
      "income_annum                0\n",
      "loan_amount                 0\n",
      "loan_term                   0\n",
      "cibil_score                 0\n",
      "residential_assets_value    0\n",
      "commercial_assets_value     0\n",
      "luxury_assets_value         0\n",
      "bank_asset_value            0\n",
      "loan_status                 0\n",
      "dtype: int64\n",
      "Final dataset shape: (4269, 13)\n",
      "\n",
      "Summary:\n",
      "- Duplicate columns and rows removed.\n",
      "- Missing data handled.\n",
      "- Outliers capped.\n",
      "- Text data encoded.\n",
      "- Dataset is clean and ready for analysis/modeling.\n",
      "\n"
     ]
    }
   ],
   "source": [
    "print(\"Missing values check:\")\n",
    "print(df_fill.isnull().sum())\n",
    "\n",
    "print(\"Final dataset shape:\", df_fill.shape)\n",
    "\n",
    "print(\"\"\"\n",
    "Summary:\n",
    "- Duplicate columns and rows removed.\n",
    "- Missing data handled.\n",
    "- Outliers capped.\n",
    "- Text data encoded.\n",
    "- Dataset is clean and ready for analysis/modeling.\n",
    "\"\"\")\n"
   ]
  }
 ],
 "metadata": {
  "kernelspec": {
   "display_name": "Python 3",
   "language": "python",
   "name": "python3"
  },
  "language_info": {
   "codemirror_mode": {
    "name": "ipython",
    "version": 3
   },
   "file_extension": ".py",
   "mimetype": "text/x-python",
   "name": "python",
   "nbconvert_exporter": "python",
   "pygments_lexer": "ipython3",
   "version": "3.13.2"
  }
 },
 "nbformat": 4,
 "nbformat_minor": 5
}
